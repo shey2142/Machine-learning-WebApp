{
  "cells": [
    {
      "cell_type": "code",
      "source": [
        "!pip install keras==2.12"
      ],
      "metadata": {
        "id": "dcOKeG6r2WI6",
        "outputId": "ea43bcdc-58d2-4606-a4cd-108b6c280622",
        "colab": {
          "base_uri": "https://localhost:8080/",
          "height": 336
        }
      },
      "execution_count": 2,
      "outputs": [
        {
          "output_type": "stream",
          "name": "stdout",
          "text": [
            "Collecting keras==2.12\n",
            "  Downloading keras-2.12.0-py2.py3-none-any.whl (1.7 MB)\n",
            "\u001b[2K     \u001b[90m━━━━━━━━━━━━━━━━━━━━━━━━━━━━━━━━━━━━━━━━\u001b[0m \u001b[32m1.7/1.7 MB\u001b[0m \u001b[31m20.7 MB/s\u001b[0m eta \u001b[36m0:00:00\u001b[0m\n",
            "\u001b[?25hInstalling collected packages: keras\n",
            "  Attempting uninstall: keras\n",
            "    Found existing installation: keras 2.13.1\n",
            "    Uninstalling keras-2.13.1:\n",
            "      Successfully uninstalled keras-2.13.1\n",
            "\u001b[31mERROR: pip's dependency resolver does not currently take into account all the packages that are installed. This behaviour is the source of the following dependency conflicts.\n",
            "tensorflow 2.13.0 requires keras<2.14,>=2.13.1, but you have keras 2.12.0 which is incompatible.\u001b[0m\u001b[31m\n",
            "\u001b[0mSuccessfully installed keras-2.12.0\n"
          ]
        },
        {
          "output_type": "display_data",
          "data": {
            "application/vnd.colab-display-data+json": {
              "pip_warning": {
                "packages": [
                  "keras"
                ]
              }
            }
          },
          "metadata": {}
        }
      ]
    },
    {
      "cell_type": "code",
      "source": [
        "import numpy as np\n",
        "\n",
        "from tensorflow import keras\n",
        "from keras.constraints import max_norm\n",
        "from keras.utils import np_utils\n",
        "\n",
        "# datasests\n",
        "from keras.datasets import cifar10\n",
        "\n",
        "\n",
        "# display the image\n",
        "import matplotlib.pyplot as plt\n",
        "import seaborn as sns\n",
        "\n",
        "# preprocess\n",
        "from sklearn.preprocessing import OneHotEncoder\n",
        "\n",
        "# for model\n",
        "from keras.models import Sequential, load_model\n",
        "from keras.layers import Conv2D, MaxPool2D, Dense, Dropout, Flatten, BatchNormalization\n",
        "\n",
        "from keras.callbacks import EarlyStopping\n",
        "from sklearn.metrics import confusion_matrix"
      ],
      "metadata": {
        "id": "2VfAFOFyOC8W"
      },
      "execution_count": 1,
      "outputs": []
    },
    {
      "cell_type": "code",
      "source": [
        "(X_train, y_train),(X_test, y_test) = cifar10.load_data()"
      ],
      "metadata": {
        "id": "T1kssJNngqs_",
        "outputId": "aa2c46fc-83d7-4c15-9d72-4623f93cd1a4",
        "colab": {
          "base_uri": "https://localhost:8080/"
        }
      },
      "execution_count": 2,
      "outputs": [
        {
          "output_type": "stream",
          "name": "stdout",
          "text": [
            "Downloading data from https://www.cs.toronto.edu/~kriz/cifar-10-python.tar.gz\n",
            "170498071/170498071 [==============================] - 2s 0us/step\n"
          ]
        }
      ]
    },
    {
      "cell_type": "code",
      "source": [
        "X_train.shape"
      ],
      "metadata": {
        "id": "5jdBFE9u1NJV",
        "outputId": "d6ad043e-480f-420e-bf80-a59dd32c1530",
        "colab": {
          "base_uri": "https://localhost:8080/"
        }
      },
      "execution_count": 3,
      "outputs": [
        {
          "output_type": "execute_result",
          "data": {
            "text/plain": [
              "(50000, 32, 32, 3)"
            ]
          },
          "metadata": {},
          "execution_count": 3
        }
      ]
    },
    {
      "cell_type": "code",
      "source": [
        "y_train.shape"
      ],
      "metadata": {
        "id": "fdpIBufW1RWa",
        "outputId": "b20b5e44-464e-4a58-8fa2-23900a32d47b",
        "colab": {
          "base_uri": "https://localhost:8080/"
        }
      },
      "execution_count": 4,
      "outputs": [
        {
          "output_type": "execute_result",
          "data": {
            "text/plain": [
              "(50000, 1)"
            ]
          },
          "metadata": {},
          "execution_count": 4
        }
      ]
    },
    {
      "cell_type": "code",
      "source": [
        "plt.imshow(X_train[0])\n",
        "plt.show()\n",
        "print(y_train[0])"
      ],
      "metadata": {
        "id": "Q8lnj59N1TpI",
        "outputId": "cfd4b329-802d-426b-8cfc-dd329e3172b0",
        "colab": {
          "base_uri": "https://localhost:8080/",
          "height": 448
        }
      },
      "execution_count": 5,
      "outputs": [
        {
          "output_type": "display_data",
          "data": {
            "text/plain": [
              "<Figure size 640x480 with 1 Axes>"
            ],
            "image/png": "[encoded data removed]"
          },
          "metadata": {}
        },
        {
          "output_type": "stream",
          "name": "stdout",
          "text": [
            "[6]\n"
          ]
        }
      ]
    },
    {
      "cell_type": "code",
      "source": [
        "# Normalize th input from 0-255 to between 0 and 1 by dividing by 255\n",
        "\n",
        "X_train = X_train.astype('float32')\n",
        "X_test = X_test.astype('float32')\n",
        "\n",
        "X_train = X_train / 255.0\n",
        "X_test = X_test / 255.0"
      ],
      "metadata": {
        "id": "niBRAGwU1VeV"
      },
      "execution_count": 6,
      "outputs": []
    },
    {
      "cell_type": "code",
      "source": [
        "y_train[0]"
      ],
      "metadata": {
        "id": "puozC4I31X6G",
        "outputId": "8896f419-0973-42c5-b887-8c0327d74a18",
        "colab": {
          "base_uri": "https://localhost:8080/"
        }
      },
      "execution_count": 7,
      "outputs": [
        {
          "output_type": "execute_result",
          "data": {
            "text/plain": [
              "array([6], dtype=uint8)"
            ]
          },
          "metadata": {},
          "execution_count": 7
        }
      ]
    },
    {
      "cell_type": "code",
      "source": [
        "# one-hot encoding output\n",
        "\n",
        "y_train = np_utils.to_categorical(y_train)\n",
        "y_test = np_utils.to_categorical(y_test)"
      ],
      "metadata": {
        "id": "YhXEidco1eDE"
      },
      "execution_count": 8,
      "outputs": []
    },
    {
      "cell_type": "code",
      "source": [
        "y_train[0]"
      ],
      "metadata": {
        "id": "Isv5T2HF1gLy",
        "outputId": "82f1237b-661c-4a58-c77b-bc1f02568531",
        "colab": {
          "base_uri": "https://localhost:8080/"
        }
      },
      "execution_count": 9,
      "outputs": [
        {
          "output_type": "execute_result",
          "data": {
            "text/plain": [
              "array([0., 0., 0., 0., 0., 0., 1., 0., 0., 0.], dtype=float32)"
            ]
          },
          "metadata": {},
          "execution_count": 9
        }
      ]
    },
    {
      "cell_type": "code",
      "source": [
        "## Building the Model\n",
        "\n",
        "model = Sequential()\n",
        "# Feature Extraction\n",
        "model.add(Conv2D(32, (3,3), padding = 'same', input_shape= X_train.shape[1:], activation = 'relu'))\n",
        "model.add(Dropout(0.2)) # 20% of turn it off Nouron\n",
        "model.add(BatchNormalization())\n",
        "model.add(Conv2D(64, (3,3), padding = 'same', activation = 'relu'))\n",
        "model.add(MaxPool2D(2))\n",
        "model.add(Dropout(0.2))\n",
        "model.add(BatchNormalization())\n",
        "\n",
        "model.add(Conv2D(64, (3,3), padding = 'same', activation = 'relu'))\n",
        "model.add(MaxPool2D(2))\n",
        "model.add(Dropout(0.2))\n",
        "model.add(BatchNormalization())\n",
        "model.add(Conv2D(128, (3,3), padding = 'same', activation = 'relu'))\n",
        "model.add(MaxPool2D(2))\n",
        "# turn 2D into 1D\n",
        "model.add(Flatten())\n",
        "model.add(Dropout(0.2))\n",
        "model.add(BatchNormalization())\n",
        "# Fully connected layer\n",
        "model.add(Dense(32, activation='relu'))\n",
        "# last layer most be number of the classes\n",
        "model.add(Dense(10, activation='softmax')) # soft max is probability of output between 0 and 1"
      ],
      "metadata": {
        "id": "ZVCbzDw61j5w"
      },
      "execution_count": 10,
      "outputs": []
    },
    {
      "cell_type": "code",
      "source": [
        "# complie model\n",
        "\n",
        "model.compile(loss = 'categorical_crossentropy', optimizer='adam', metrics= ['accuracy'])"
      ],
      "metadata": {
        "id": "4pOsW-ne3Rx8"
      },
      "execution_count": 11,
      "outputs": []
    },
    {
      "cell_type": "code",
      "source": [
        "model.summary()"
      ],
      "metadata": {
        "id": "sFFmeLAx3U1t",
        "outputId": "4fe3cd5e-e5a4-4494-a713-ef80de03aa5c",
        "colab": {
          "base_uri": "https://localhost:8080/"
        }
      },
      "execution_count": 12,
      "outputs": [
        {
          "output_type": "stream",
          "name": "stdout",
          "text": [
            "Model: \"sequential\"\n",
            "_________________________________________________________________\n",
            " Layer (type)                Output Shape              Param #   \n",
            "=================================================================\n",
            " conv2d (Conv2D)             (None, 32, 32, 32)        896       \n",
            "                                                                 \n",
            " dropout (Dropout)           (None, 32, 32, 32)        0         \n",
            "                                                                 \n",
            " batch_normalization (BatchN  (None, 32, 32, 32)       128       \n",
            " ormalization)                                                   \n",
            "                                                                 \n",
            " conv2d_1 (Conv2D)           (None, 32, 32, 64)        18496     \n",
            "                                                                 \n",
            " max_pooling2d (MaxPooling2D  (None, 16, 16, 64)       0         \n",
            " )                                                               \n",
            "                                                                 \n",
            " dropout_1 (Dropout)         (None, 16, 16, 64)        0         \n",
            "                                                                 \n",
            " batch_normalization_1 (Batc  (None, 16, 16, 64)       256       \n",
            " hNormalization)                                                 \n",
            "                                                                 \n",
            " conv2d_2 (Conv2D)           (None, 16, 16, 64)        36928     \n",
            "                                                                 \n",
            " max_pooling2d_1 (MaxPooling  (None, 8, 8, 64)         0         \n",
            " 2D)                                                             \n",
            "                                                                 \n",
            " dropout_2 (Dropout)         (None, 8, 8, 64)          0         \n",
            "                                                                 \n",
            " batch_normalization_2 (Batc  (None, 8, 8, 64)         256       \n",
            " hNormalization)                                                 \n",
            "                                                                 \n",
            " conv2d_3 (Conv2D)           (None, 8, 8, 128)         73856     \n",
            "                                                                 \n",
            " max_pooling2d_2 (MaxPooling  (None, 4, 4, 128)        0         \n",
            " 2D)                                                             \n",
            "                                                                 \n",
            " flatten (Flatten)           (None, 2048)              0         \n",
            "                                                                 \n",
            " dropout_3 (Dropout)         (None, 2048)              0         \n",
            "                                                                 \n",
            " batch_normalization_3 (Batc  (None, 2048)             8192      \n",
            " hNormalization)                                                 \n",
            "                                                                 \n",
            " dense (Dense)               (None, 32)                65568     \n",
            "                                                                 \n",
            " dense_1 (Dense)             (None, 10)                330       \n",
            "                                                                 \n",
            "=================================================================\n",
            "Total params: 204,906\n",
            "Trainable params: 200,490\n",
            "Non-trainable params: 4,416\n",
            "_________________________________________________________________\n"
          ]
        }
      ]
    },
    {
      "cell_type": "code",
      "source": [
        "# training the model\n",
        "\n",
        "history = model.fit(X_train, y_train, validation_data=(X_test,y_test), epochs=30, batch_size= 64)"
      ],
      "metadata": {
        "id": "GKkx4bOY3YDL",
        "outputId": "a92ebb1b-1765-4228-a9db-48a0b183d1f7",
        "colab": {
          "base_uri": "https://localhost:8080/"
        }
      },
      "execution_count": 13,
      "outputs": [
        {
          "output_type": "stream",
          "name": "stdout",
          "text": [
            "Epoch 1/30\n",
            "782/782 [==============================] - 25s 14ms/step - loss: 1.4998 - accuracy: 0.4642 - val_loss: 1.1509 - val_accuracy: 0.5869\n",
            "Epoch 2/30\n",
            "782/782 [==============================] - 10s 12ms/step - loss: 1.0614 - accuracy: 0.6227 - val_loss: 1.0697 - val_accuracy: 0.6274\n",
            "Epoch 3/30\n",
            "782/782 [==============================] - 10s 13ms/step - loss: 0.8822 - accuracy: 0.6901 - val_loss: 0.9114 - val_accuracy: 0.6891\n",
            "Epoch 4/30\n",
            "782/782 [==============================] - 10s 13ms/step - loss: 0.7843 - accuracy: 0.7241 - val_loss: 0.7717 - val_accuracy: 0.7346\n",
            "Epoch 5/30\n",
            "782/782 [==============================] - 10s 13ms/step - loss: 0.7239 - accuracy: 0.7440 - val_loss: 0.7224 - val_accuracy: 0.7538\n",
            "Epoch 6/30\n",
            "782/782 [==============================] - 10s 13ms/step - loss: 0.6716 - accuracy: 0.7627 - val_loss: 0.6833 - val_accuracy: 0.7576\n",
            "Epoch 7/30\n",
            "782/782 [==============================] - 10s 13ms/step - loss: 0.6366 - accuracy: 0.7758 - val_loss: 0.6361 - val_accuracy: 0.7811\n",
            "Epoch 8/30\n",
            "782/782 [==============================] - 10s 13ms/step - loss: 0.6028 - accuracy: 0.7878 - val_loss: 0.6120 - val_accuracy: 0.7877\n",
            "Epoch 9/30\n",
            "782/782 [==============================] - 11s 14ms/step - loss: 0.5819 - accuracy: 0.7965 - val_loss: 0.6446 - val_accuracy: 0.7776\n",
            "Epoch 10/30\n",
            "782/782 [==============================] - 10s 13ms/step - loss: 0.5567 - accuracy: 0.8042 - val_loss: 0.6607 - val_accuracy: 0.7789\n",
            "Epoch 11/30\n",
            "782/782 [==============================] - 10s 12ms/step - loss: 0.5387 - accuracy: 0.8094 - val_loss: 0.6378 - val_accuracy: 0.7765\n",
            "Epoch 12/30\n",
            "782/782 [==============================] - 10s 13ms/step - loss: 0.5153 - accuracy: 0.8164 - val_loss: 0.6470 - val_accuracy: 0.7843\n",
            "Epoch 13/30\n",
            "782/782 [==============================] - 10s 13ms/step - loss: 0.4987 - accuracy: 0.8224 - val_loss: 0.5781 - val_accuracy: 0.8037\n",
            "Epoch 14/30\n",
            "782/782 [==============================] - 10s 13ms/step - loss: 0.4915 - accuracy: 0.8255 - val_loss: 0.5561 - val_accuracy: 0.8104\n",
            "Epoch 15/30\n",
            "782/782 [==============================] - 10s 13ms/step - loss: 0.4802 - accuracy: 0.8308 - val_loss: 0.5500 - val_accuracy: 0.8163\n",
            "Epoch 16/30\n",
            "782/782 [==============================] - 10s 13ms/step - loss: 0.4628 - accuracy: 0.8368 - val_loss: 0.5806 - val_accuracy: 0.8044\n",
            "Epoch 17/30\n",
            "782/782 [==============================] - 11s 13ms/step - loss: 0.4496 - accuracy: 0.8400 - val_loss: 0.5752 - val_accuracy: 0.8088\n",
            "Epoch 18/30\n",
            "782/782 [==============================] - 10s 13ms/step - loss: 0.4398 - accuracy: 0.8435 - val_loss: 0.5585 - val_accuracy: 0.8153\n",
            "Epoch 19/30\n",
            "782/782 [==============================] - 10s 13ms/step - loss: 0.4333 - accuracy: 0.8461 - val_loss: 0.5596 - val_accuracy: 0.8143\n",
            "Epoch 20/30\n",
            "782/782 [==============================] - 10s 13ms/step - loss: 0.4253 - accuracy: 0.8484 - val_loss: 0.5581 - val_accuracy: 0.8199\n",
            "Epoch 21/30\n",
            "782/782 [==============================] - 10s 13ms/step - loss: 0.4245 - accuracy: 0.8497 - val_loss: 0.5549 - val_accuracy: 0.8156\n",
            "Epoch 22/30\n",
            "782/782 [==============================] - 10s 13ms/step - loss: 0.4081 - accuracy: 0.8550 - val_loss: 0.5844 - val_accuracy: 0.8094\n",
            "Epoch 23/30\n",
            "782/782 [==============================] - 10s 13ms/step - loss: 0.4039 - accuracy: 0.8563 - val_loss: 0.5802 - val_accuracy: 0.8087\n",
            "Epoch 24/30\n",
            "782/782 [==============================] - 11s 14ms/step - loss: 0.3998 - accuracy: 0.8579 - val_loss: 0.5360 - val_accuracy: 0.8187\n",
            "Epoch 25/30\n",
            "782/782 [==============================] - 10s 13ms/step - loss: 0.3941 - accuracy: 0.8600 - val_loss: 0.6093 - val_accuracy: 0.8039\n",
            "Epoch 26/30\n",
            "782/782 [==============================] - 10s 13ms/step - loss: 0.3832 - accuracy: 0.8640 - val_loss: 0.5563 - val_accuracy: 0.8159\n",
            "Epoch 27/30\n",
            "782/782 [==============================] - 10s 13ms/step - loss: 0.3803 - accuracy: 0.8625 - val_loss: 0.6056 - val_accuracy: 0.8022\n",
            "Epoch 28/30\n",
            "782/782 [==============================] - 10s 13ms/step - loss: 0.3760 - accuracy: 0.8656 - val_loss: 0.5309 - val_accuracy: 0.8287\n",
            "Epoch 29/30\n",
            "782/782 [==============================] - 10s 13ms/step - loss: 0.3693 - accuracy: 0.8676 - val_loss: 0.5554 - val_accuracy: 0.8192\n",
            "Epoch 30/30\n",
            "782/782 [==============================] - 10s 13ms/step - loss: 0.3649 - accuracy: 0.8698 - val_loss: 0.5909 - val_accuracy: 0.8148\n"
          ]
        }
      ]
    },
    {
      "cell_type": "code",
      "source": [
        "for key, val in history.history.items():\n",
        "  print(key)"
      ],
      "metadata": {
        "id": "DhhqiFnl3ba9",
        "outputId": "fc914f83-cda0-4c13-c839-0d279bf32ad1",
        "colab": {
          "base_uri": "https://localhost:8080/"
        }
      },
      "execution_count": 14,
      "outputs": [
        {
          "output_type": "stream",
          "name": "stdout",
          "text": [
            "loss\n",
            "accuracy\n",
            "val_loss\n",
            "val_accuracy\n"
          ]
        }
      ]
    },
    {
      "cell_type": "code",
      "source": [
        "import pandas as pd\n",
        "\n",
        "pd.DataFrame(history.history).plot()\n",
        "plt.show()"
      ],
      "metadata": {
        "id": "pgCTn9Rr5fjq",
        "outputId": "964fcf46-077a-46e3-a1b8-5d3ff38f912e",
        "colab": {
          "base_uri": "https://localhost:8080/",
          "height": 430
        }
      },
      "execution_count": 15,
      "outputs": [
        {
          "output_type": "display_data",
          "data": {
            "text/plain": [
              "<Figure size 640x480 with 1 Axes>"
            ],
            "image/png": "[encoded data removed]"
          },
          "metadata": {}
        }
      ]
    },
    {
      "cell_type": "code",
      "source": [
        "plt.plot(history.history['accuracy'])\n",
        "plt.plot(history.history['val_accuracy'])\n",
        "plt.show()"
      ],
      "metadata": {
        "id": "mZtP92AJ5jcG",
        "outputId": "496e93a2-1267-42fd-caea-24179ca43aea",
        "colab": {
          "base_uri": "https://localhost:8080/",
          "height": 430
        }
      },
      "execution_count": 16,
      "outputs": [
        {
          "output_type": "display_data",
          "data": {
            "text/plain": [
              "<Figure size 640x480 with 1 Axes>"
            ],
            "image/png": "[encoded data removed]"
          },
          "metadata": {}
        }
      ]
    },
    {
      "cell_type": "code",
      "source": [
        "# after complite training save the model\n",
        "model.save('cifar10_model.h5')"
      ],
      "metadata": {
        "id": "dXFujt2x5nLz"
      },
      "execution_count": 19,
      "outputs": []
    },
    {
      "cell_type": "code",
      "source": [],
      "metadata": {
        "id": "mYsCwtQO5r9u"
      },
      "execution_count": null,
      "outputs": []
    }
  ],
  "metadata": {
    "colab": {
      "name": "Welcome To Colaboratory",
      "provenance": [],
      "gpuType": "T4"
    },
    "kernelspec": {
      "display_name": "Python 3",
      "name": "python3"
    },
    "accelerator": "GPU"
  },
  "nbformat": 4,
  "nbformat_minor": 0
}